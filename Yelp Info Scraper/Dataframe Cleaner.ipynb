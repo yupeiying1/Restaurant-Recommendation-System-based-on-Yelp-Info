{
 "cells": [
  {
   "cell_type": "markdown",
   "metadata": {},
   "source": [
    "**Use the following code to clean csv dataframes for different restaurants **\n",
    "\n",
    "Duplicate restaurants might be obtained from scraping search, so we need to make sure to drop them.\n",
    "\n",
    "Merge the cleaned individual dataframes into the final dataframe as our database.\n",
    "\n",
    "Our final_df contains about 2500 restaurants."
   ]
  },
  {
   "cell_type": "code",
   "execution_count": 1,
   "metadata": {
    "collapsed": true
   },
   "outputs": [],
   "source": [
    "import pandas as pd"
   ]
  },
  {
   "cell_type": "code",
   "execution_count": 2,
   "metadata": {},
   "outputs": [
    {
     "data": {
      "text/plain": [
       "37"
      ]
     },
     "execution_count": 2,
     "metadata": {},
     "output_type": "execute_result"
    }
   ],
   "source": [
    "header=['restaurant_name', 'retaurant_address', 'restaurant_zipcode', 'restaurant_reviewcount', 'restaurant_rating', 'restaurant_neighobrhood', 'Hygiene_score', 'price_range', 'Liked by Vegetarians', 'Takes Reservations', 'Delivery', 'Take-out', 'Accepts Credit Cards', 'Accepts Bitcoin', 'Parking', 'Bike Parking', 'Wheelchair Accessible', 'Good for Kids', 'Good for Groups', 'Attire', 'Noise Level', 'Alcohol', 'Happy Hour', 'Outdoor Seating', 'Wi-Fi', 'Has TV', 'Dogs Allowed', 'Waiter Service', 'Caters', 'Category', 'Has Soy-free Options', 'Has Dairy-free Options', 'Liked by Vegans', 'Has Gluten-free Options', 'Good For', 'Ambience', 'Gender Neutral Restrooms']\n",
    "len(header) # column number reference"
   ]
  },
  {
   "cell_type": "code",
   "execution_count": 3,
   "metadata": {
    "collapsed": true
   },
   "outputs": [],
   "source": [
    "# list of all cuisine type\n",
    "Cuisine_type = ['Japanese','Chinese','Korean', 'American', 'Indian', 'Spanish', 'French', 'Italian', 'Greek', 'Thai', 'Mexico', 'Vietnamese','morningside','Iranian','German','Russian','Turkey','']"
   ]
  },
  {
   "cell_type": "code",
   "execution_count": 4,
   "metadata": {},
   "outputs": [
    {
     "data": {
      "text/plain": [
       "(479, 38)"
      ]
     },
     "execution_count": 4,
     "metadata": {},
     "output_type": "execute_result"
    }
   ],
   "source": [
    "# read Chinese_Restaurant.csv into dataframe\n",
    "df_chinese = pd.read_csv('Chinese_Restaurant.csv', encoding = 'latin1')\n",
    "df_chinese = df_chinese.reindex_axis(sorted(df_chinese.columns), axis=1) # order the column names\n",
    "df_chinese = df_chinese.drop(['Unnamed: 0'],axis=1) # drop irrevalant column\n",
    "df_chinese = df_chinese.drop_duplicates() # drop same restaurants appeared in the search\n",
    "df_chinese ['Source'] = 'Chinese' # use 'Source' to indicate the searching term\n",
    "df_chinese.shape # print shape to make sure column number is correct"
   ]
  },
  {
   "cell_type": "code",
   "execution_count": 5,
   "metadata": {},
   "outputs": [
    {
     "name": "stdout",
     "output_type": "stream",
     "text": [
      "Japanese (72, 38)\n",
      "Chinese (479, 38)\n",
      "Korean (216, 38)\n",
      "American (138, 38)\n",
      "Indian (151, 38)\n",
      "Spanish (101, 38)\n",
      "French (244, 38)\n",
      "Italian (20, 38)\n",
      "Greek (52, 38)\n",
      "Thai (377, 38)\n",
      "Mexico (56, 38)\n",
      "Vietnamese (57, 38)\n",
      "morningside (95, 38)\n",
      "Iranian (57, 38)\n",
      "German (62, 38)\n",
      "Russian (74, 38)\n",
      "Turkey (220, 38)\n",
      " (29, 38)\n"
     ]
    }
   ],
   "source": [
    "# An efficient way to read each csv into dataframes\n",
    "# create a dictionary for storing all dataframes\n",
    "all_df = {}\n",
    "for i in range(len(Cuisine_type)):\n",
    "    all_df[Cuisine_type[i]] = pd.read_csv(Cuisine_type[i]+'_Restaurant.csv', encoding = 'latin1')\n",
    "    all_df[Cuisine_type[i]] = all_df[Cuisine_type[i]].reindex_axis(sorted(all_df[Cuisine_type[i]].columns), axis=1) # order the column names\n",
    "    all_df[Cuisine_type[i]] = all_df[Cuisine_type[i]].drop(['Unnamed: 0'],axis=1) # drop irrevalant column\n",
    "    all_df[Cuisine_type[i]] = all_df[Cuisine_type[i]].drop_duplicates() # drop same restaurants appeared in the search\n",
    "    all_df[Cuisine_type[i]]['Source'] =Cuisine_type[i] # use 'Source' to indicate the searching term\n",
    "    print(Cuisine_type[i],all_df[Cuisine_type[i]].shape)"
   ]
  },
  {
   "cell_type": "code",
   "execution_count": 6,
   "metadata": {
    "scrolled": false
   },
   "outputs": [
    {
     "data": {
      "text/plain": [
       "(2500, 38)"
      ]
     },
     "execution_count": 6,
     "metadata": {},
     "output_type": "execute_result"
    }
   ],
   "source": [
    "# Merge all the dataframes into one final dataframe\n",
    "df_final = pd.concat(all_df[Cuisine_type[i]] for i in range(len(Cuisine_type)))\n",
    "df_final = df_final.drop_duplicates()\n",
    "df_final.shape"
   ]
  },
  {
   "cell_type": "code",
   "execution_count": 7,
   "metadata": {
    "collapsed": true
   },
   "outputs": [],
   "source": [
    "df_final = df_final.rename(index=str, columns={\"restaurant_neighobrhood\": \"restaurant_neighborhood\"})\n",
    "df_final.reset_index()\n",
    "df_final = df_final.fillna('NA')"
   ]
  },
  {
   "cell_type": "code",
   "execution_count": 8,
   "metadata": {},
   "outputs": [
    {
     "data": {
      "text/html": [
       "<div>\n",
       "<style>\n",
       "    .dataframe thead tr:only-child th {\n",
       "        text-align: right;\n",
       "    }\n",
       "\n",
       "    .dataframe thead th {\n",
       "        text-align: left;\n",
       "    }\n",
       "\n",
       "    .dataframe tbody tr th {\n",
       "        vertical-align: top;\n",
       "    }\n",
       "</style>\n",
       "<table border=\"1\" class=\"dataframe\">\n",
       "  <thead>\n",
       "    <tr style=\"text-align: right;\">\n",
       "      <th></th>\n",
       "      <th>Accepts Bitcoin</th>\n",
       "      <th>Accepts Credit Cards</th>\n",
       "      <th>Alcohol</th>\n",
       "      <th>Ambience</th>\n",
       "      <th>Attire</th>\n",
       "      <th>Bike Parking</th>\n",
       "      <th>Category</th>\n",
       "      <th>Caters</th>\n",
       "      <th>Delivery</th>\n",
       "      <th>Dogs Allowed</th>\n",
       "      <th>...</th>\n",
       "      <th>Waiter Service</th>\n",
       "      <th>Wheelchair Accessible</th>\n",
       "      <th>Wi-Fi</th>\n",
       "      <th>price_range</th>\n",
       "      <th>restaurant_name</th>\n",
       "      <th>restaurant_neighborhood</th>\n",
       "      <th>restaurant_rating</th>\n",
       "      <th>restaurant_reviewcount</th>\n",
       "      <th>restaurant_zipcode</th>\n",
       "      <th>retaurant_address</th>\n",
       "    </tr>\n",
       "  </thead>\n",
       "  <tbody>\n",
       "  </tbody>\n",
       "</table>\n",
       "<p>0 rows × 38 columns</p>\n",
       "</div>"
      ],
      "text/plain": [
       "Empty DataFrame\n",
       "Columns: [Accepts Bitcoin, Accepts Credit Cards, Alcohol, Ambience, Attire, Bike Parking, Category, Caters, Delivery, Dogs Allowed, Gender Neutral Restrooms, Good For, Good for Groups, Good for Kids, Happy Hour, Has Dairy-free Options, Has Gluten-free Options, Has Soy-free Options, Has TV, Hygiene_score, Liked by Vegans, Liked by Vegetarians, Noise Level, Outdoor Seating, Parking, Source, Take-out, Takes Reservations, Waiter Service, Wheelchair Accessible, Wi-Fi, price_range, restaurant_name, restaurant_neighborhood, restaurant_rating, restaurant_reviewcount, restaurant_zipcode, retaurant_address]\n",
       "Index: []\n",
       "\n",
       "[0 rows x 38 columns]"
      ]
     },
     "execution_count": 8,
     "metadata": {},
     "output_type": "execute_result"
    }
   ],
   "source": [
    "# Check there is no restaurant name with Yelp from IP ban \n",
    "df_final[df_final['restaurant_name']=='Yelp']"
   ]
  },
  {
   "cell_type": "code",
   "execution_count": 9,
   "metadata": {},
   "outputs": [
    {
     "data": {
      "text/html": [
       "<div>\n",
       "<style>\n",
       "    .dataframe thead tr:only-child th {\n",
       "        text-align: right;\n",
       "    }\n",
       "\n",
       "    .dataframe thead th {\n",
       "        text-align: left;\n",
       "    }\n",
       "\n",
       "    .dataframe tbody tr th {\n",
       "        vertical-align: top;\n",
       "    }\n",
       "</style>\n",
       "<table border=\"1\" class=\"dataframe\">\n",
       "  <thead>\n",
       "    <tr style=\"text-align: right;\">\n",
       "      <th></th>\n",
       "      <th>Accepts Bitcoin</th>\n",
       "      <th>Accepts Credit Cards</th>\n",
       "      <th>Alcohol</th>\n",
       "      <th>Ambience</th>\n",
       "      <th>Attire</th>\n",
       "      <th>Bike Parking</th>\n",
       "      <th>Category</th>\n",
       "      <th>Caters</th>\n",
       "      <th>Delivery</th>\n",
       "      <th>Dogs Allowed</th>\n",
       "      <th>...</th>\n",
       "      <th>Waiter Service</th>\n",
       "      <th>Wheelchair Accessible</th>\n",
       "      <th>Wi-Fi</th>\n",
       "      <th>price_range</th>\n",
       "      <th>restaurant_name</th>\n",
       "      <th>restaurant_neighborhood</th>\n",
       "      <th>restaurant_rating</th>\n",
       "      <th>restaurant_reviewcount</th>\n",
       "      <th>restaurant_zipcode</th>\n",
       "      <th>retaurant_address</th>\n",
       "    </tr>\n",
       "  </thead>\n",
       "  <tbody>\n",
       "    <tr>\n",
       "      <th>0</th>\n",
       "      <td>No</td>\n",
       "      <td>Yes</td>\n",
       "      <td>No</td>\n",
       "      <td>Casual, Trendy</td>\n",
       "      <td>Casual</td>\n",
       "      <td>No</td>\n",
       "      <td>Japanese; Sushi Bars;</td>\n",
       "      <td>Yes</td>\n",
       "      <td>No</td>\n",
       "      <td>No</td>\n",
       "      <td>...</td>\n",
       "      <td>No</td>\n",
       "      <td>Yes</td>\n",
       "      <td>Free</td>\n",
       "      <td>$11-30</td>\n",
       "      <td>Wasabi Sushi &amp; Bento</td>\n",
       "      <td>Financial District</td>\n",
       "      <td>4</td>\n",
       "      <td>107</td>\n",
       "      <td>10038</td>\n",
       "      <td>200 BroadwayFulton Street Station</td>\n",
       "    </tr>\n",
       "    <tr>\n",
       "      <th>1</th>\n",
       "      <td>NA</td>\n",
       "      <td>Yes</td>\n",
       "      <td>Beer &amp; Wine Only</td>\n",
       "      <td>Casual</td>\n",
       "      <td>Casual</td>\n",
       "      <td>No</td>\n",
       "      <td>Ramen;</td>\n",
       "      <td>No</td>\n",
       "      <td>Yes</td>\n",
       "      <td>NA</td>\n",
       "      <td>...</td>\n",
       "      <td>Yes</td>\n",
       "      <td>NA</td>\n",
       "      <td>No</td>\n",
       "      <td>$11-30</td>\n",
       "      <td>Kuu Ramen</td>\n",
       "      <td>Financial District</td>\n",
       "      <td>3.5</td>\n",
       "      <td>510</td>\n",
       "      <td>10038</td>\n",
       "      <td>20 John St</td>\n",
       "    </tr>\n",
       "    <tr>\n",
       "      <th>2</th>\n",
       "      <td>NA</td>\n",
       "      <td>Yes</td>\n",
       "      <td>No</td>\n",
       "      <td>Casual</td>\n",
       "      <td>Casual</td>\n",
       "      <td>Yes</td>\n",
       "      <td>Bakeries; Japanese; Coffee &amp; Tea;</td>\n",
       "      <td>Yes</td>\n",
       "      <td>No</td>\n",
       "      <td>NA</td>\n",
       "      <td>...</td>\n",
       "      <td>No</td>\n",
       "      <td>NA</td>\n",
       "      <td>No</td>\n",
       "      <td>$11-30</td>\n",
       "      <td>Takahachi Bakery</td>\n",
       "      <td>Civic Center, TriBeCa</td>\n",
       "      <td>4</td>\n",
       "      <td>779</td>\n",
       "      <td>10007</td>\n",
       "      <td>25 Murray St</td>\n",
       "    </tr>\n",
       "    <tr>\n",
       "      <th>3</th>\n",
       "      <td>NA</td>\n",
       "      <td>Yes</td>\n",
       "      <td>Beer &amp; Wine Only</td>\n",
       "      <td>Casual</td>\n",
       "      <td>Casual</td>\n",
       "      <td>Yes</td>\n",
       "      <td>Sushi Bars; Japanese;</td>\n",
       "      <td>Yes</td>\n",
       "      <td>Yes</td>\n",
       "      <td>NA</td>\n",
       "      <td>...</td>\n",
       "      <td>Yes</td>\n",
       "      <td>NA</td>\n",
       "      <td>Free</td>\n",
       "      <td>$11-30</td>\n",
       "      <td>Blue Ribbon Sushi Bar - Hudson Eats</td>\n",
       "      <td>Battery Park</td>\n",
       "      <td>3.5</td>\n",
       "      <td>124</td>\n",
       "      <td>10281</td>\n",
       "      <td>225 Liberty StHudson Eats</td>\n",
       "    </tr>\n",
       "    <tr>\n",
       "      <th>4</th>\n",
       "      <td>NA</td>\n",
       "      <td>Yes</td>\n",
       "      <td>Full Bar</td>\n",
       "      <td>Casual, Trendy</td>\n",
       "      <td>Casual</td>\n",
       "      <td>Yes</td>\n",
       "      <td>Sushi Bars; Asian Fusion; Japanese;</td>\n",
       "      <td>Yes</td>\n",
       "      <td>Yes</td>\n",
       "      <td>No</td>\n",
       "      <td>...</td>\n",
       "      <td>Yes</td>\n",
       "      <td>Yes</td>\n",
       "      <td>No</td>\n",
       "      <td>$11-30</td>\n",
       "      <td>Honshu</td>\n",
       "      <td>NA</td>\n",
       "      <td>4</td>\n",
       "      <td>227</td>\n",
       "      <td>7302</td>\n",
       "      <td>95 Greene St</td>\n",
       "    </tr>\n",
       "  </tbody>\n",
       "</table>\n",
       "<p>5 rows × 38 columns</p>\n",
       "</div>"
      ],
      "text/plain": [
       "  Accepts Bitcoin Accepts Credit Cards           Alcohol        Ambience  \\\n",
       "0              No                  Yes                No  Casual, Trendy   \n",
       "1              NA                  Yes  Beer & Wine Only          Casual   \n",
       "2              NA                  Yes                No          Casual   \n",
       "3              NA                  Yes  Beer & Wine Only          Casual   \n",
       "4              NA                  Yes          Full Bar  Casual, Trendy   \n",
       "\n",
       "   Attire Bike Parking                              Category Caters Delivery  \\\n",
       "0  Casual           No                Japanese; Sushi Bars;     Yes       No   \n",
       "1  Casual           No                               Ramen;      No      Yes   \n",
       "2  Casual          Yes    Bakeries; Japanese; Coffee & Tea;     Yes       No   \n",
       "3  Casual          Yes                Sushi Bars; Japanese;     Yes      Yes   \n",
       "4  Casual          Yes  Sushi Bars; Asian Fusion; Japanese;     Yes      Yes   \n",
       "\n",
       "  Dogs Allowed                ...                 Waiter Service  \\\n",
       "0           No                ...                             No   \n",
       "1           NA                ...                            Yes   \n",
       "2           NA                ...                             No   \n",
       "3           NA                ...                            Yes   \n",
       "4           No                ...                            Yes   \n",
       "\n",
       "  Wheelchair Accessible Wi-Fi price_range  \\\n",
       "0                   Yes  Free      $11-30   \n",
       "1                    NA    No      $11-30   \n",
       "2                    NA    No      $11-30   \n",
       "3                    NA  Free      $11-30   \n",
       "4                   Yes    No      $11-30   \n",
       "\n",
       "                       restaurant_name restaurant_neighborhood  \\\n",
       "0                 Wasabi Sushi & Bento      Financial District   \n",
       "1                            Kuu Ramen      Financial District   \n",
       "2                     Takahachi Bakery   Civic Center, TriBeCa   \n",
       "3  Blue Ribbon Sushi Bar - Hudson Eats            Battery Park   \n",
       "4                               Honshu                      NA   \n",
       "\n",
       "  restaurant_rating restaurant_reviewcount restaurant_zipcode  \\\n",
       "0                 4                    107              10038   \n",
       "1               3.5                    510              10038   \n",
       "2                 4                    779              10007   \n",
       "3               3.5                    124              10281   \n",
       "4                 4                    227               7302   \n",
       "\n",
       "                   retaurant_address  \n",
       "0  200 BroadwayFulton Street Station  \n",
       "1                         20 John St  \n",
       "2                       25 Murray St  \n",
       "3          225 Liberty StHudson Eats  \n",
       "4                       95 Greene St  \n",
       "\n",
       "[5 rows x 38 columns]"
      ]
     },
     "execution_count": 9,
     "metadata": {},
     "output_type": "execute_result"
    }
   ],
   "source": [
    "df_final.head()"
   ]
  },
  {
   "cell_type": "code",
   "execution_count": 10,
   "metadata": {
    "collapsed": true
   },
   "outputs": [],
   "source": [
    "# save as \"final_df.csv\"\n",
    "df_final.to_csv(\"final_df.csv\")"
   ]
  },
  {
   "cell_type": "markdown",
   "metadata": {},
   "source": [
    "**The final dataframe is also good for possible furture data analysis research or projects.**\n",
    "\n",
    "Note: this list is not an exhausive list of all NYC restaurants due to the time limit constraint. In addition, we circumvented IP ban issues by searching a relatively small amount of urls."
   ]
  },
  {
   "cell_type": "markdown",
   "metadata": {},
   "source": [
    "Below are some df_final characteristics that are useful for building recommendation engine:"
   ]
  },
  {
   "cell_type": "code",
   "execution_count": 11,
   "metadata": {
    "scrolled": true
   },
   "outputs": [
    {
     "data": {
      "text/plain": [
       "Index(['Accepts Bitcoin', 'Accepts Credit Cards', 'Alcohol', 'Ambience',\n",
       "       'Attire', 'Bike Parking', 'Category', 'Caters', 'Delivery',\n",
       "       'Dogs Allowed', 'Gender Neutral Restrooms', 'Good For',\n",
       "       'Good for Groups', 'Good for Kids', 'Happy Hour',\n",
       "       'Has Dairy-free Options', 'Has Gluten-free Options',\n",
       "       'Has Soy-free Options', 'Has TV', 'Hygiene_score', 'Liked by Vegans',\n",
       "       'Liked by Vegetarians', 'Noise Level', 'Outdoor Seating', 'Parking',\n",
       "       'Source', 'Take-out', 'Takes Reservations', 'Waiter Service',\n",
       "       'Wheelchair Accessible', 'Wi-Fi', 'price_range', 'restaurant_name',\n",
       "       'restaurant_neighborhood', 'restaurant_rating',\n",
       "       'restaurant_reviewcount', 'restaurant_zipcode', 'retaurant_address'],\n",
       "      dtype='object')"
      ]
     },
     "execution_count": 11,
     "metadata": {},
     "output_type": "execute_result"
    }
   ],
   "source": [
    "df_final.columns"
   ]
  },
  {
   "cell_type": "code",
   "execution_count": 12,
   "metadata": {},
   "outputs": [
    {
     "data": {
      "text/plain": [
       "array(['$11-30', 'Under $10', '$31-60', 'Above $61', 'NA', '£11-25',\n",
       "       'Moderate', 'Inexpensive', 'Ultra High-End', 'Pricey'], dtype=object)"
      ]
     },
     "execution_count": 12,
     "metadata": {},
     "output_type": "execute_result"
    }
   ],
   "source": [
    "df_final['price_range'].unique()"
   ]
  },
  {
   "cell_type": "code",
   "execution_count": 13,
   "metadata": {},
   "outputs": [
    {
     "data": {
      "text/plain": [
       "array(['Casual, Trendy', 'Casual', 'Intimate', 'Casual, Intimate',\n",
       "       'Classy, Upscale', 'Trendy, Romantic, Classy, Upscale', 'Classy',\n",
       "       'Casual, Trendy, Intimate, Classy', 'NA', 'Trendy, Classy, Upscale',\n",
       "       'Trendy', 'Hipster, Casual, Trendy',\n",
       "       'Casual, Intimate, Romantic, Classy', 'Romantic, Upscale',\n",
       "       'Hipster, Casual, Trendy, Intimate', 'Hipster, Casual',\n",
       "       'Trendy, Intimate', 'Divey, Casual', 'Divey', 'Hipster',\n",
       "       'Casual, Trendy, Intimate', 'Trendy, Upscale',\n",
       "       'Casual, Trendy, Romantic, Classy',\n",
       "       'Casual, Trendy, Intimate, Romantic, Classy',\n",
       "       'Intimate, Romantic, Classy', 'Casual, Classy',\n",
       "       'Casual, Intimate, Classy', 'Trendy, Romantic, Upscale', 'Romantic',\n",
       "       'Intimate, Classy', 'Casual, Classy, Upscale',\n",
       "       'Casual, Trendy, Classy, Upscale', 'Casual, Romantic',\n",
       "       'Casual, Trendy, Romantic', 'Casual, Trendy, Romantic, Upscale',\n",
       "       'Upscale', 'Casual, Trendy, Classy', 'Intimate, Romantic',\n",
       "       'Trendy, Intimate, Romantic, Classy', 'Casual, Intimate, Romantic',\n",
       "       'Trendy, Intimate, Romantic',\n",
       "       'Trendy, Intimate, Romantic, Classy, Upscale',\n",
       "       'Casual, Trendy, Romantic, Classy, Upscale', 'Trendy, Classy',\n",
       "       'Trendy, Intimate, Classy', 'Intimate, Romantic, Classy, Upscale',\n",
       "       'Casual, Romantic, Classy', 'Casual, Romantic, Upscale',\n",
       "       'Casual, Trendy, Intimate, Romantic', 'Romantic, Classy',\n",
       "       'Trendy, Romantic, Classy',\n",
       "       'Hipster, Casual, Trendy, Intimate, Romantic, Classy, Upscale',\n",
       "       'Touristy', 'Casual, Touristy', 'Romantic, Classy, Upscale',\n",
       "       'Hipster, Trendy'], dtype=object)"
      ]
     },
     "execution_count": 13,
     "metadata": {},
     "output_type": "execute_result"
    }
   ],
   "source": [
    "df_final['Ambience'].unique()"
   ]
  },
  {
   "cell_type": "code",
   "execution_count": 25,
   "metadata": {},
   "outputs": [
    {
     "data": {
      "text/plain": [
       "20"
      ]
     },
     "execution_count": 25,
     "metadata": {},
     "output_type": "execute_result"
    }
   ],
   "source": [
    "len(df_final[df_final['Source'] == 'Italian'])"
   ]
  },
  {
   "cell_type": "code",
   "execution_count": 15,
   "metadata": {},
   "outputs": [
    {
     "name": "stdout",
     "output_type": "stream",
     "text": [
      "24\n",
      "27\n"
     ]
    }
   ],
   "source": [
    "print(df_final.columns.get_loc(\"Parking\"))\n",
    "print(df_final.columns.get_loc(\"Takes Reservations\"))"
   ]
  },
  {
   "cell_type": "code",
   "execution_count": 16,
   "metadata": {},
   "outputs": [
    {
     "data": {
      "text/plain": [
       "array(['No', 'Yes', 'NA'], dtype=object)"
      ]
     },
     "execution_count": 16,
     "metadata": {},
     "output_type": "execute_result"
    }
   ],
   "source": [
    "df_final['Takes Reservations'].unique()"
   ]
  }
 ],
 "metadata": {
  "kernelspec": {
   "display_name": "Python 3",
   "language": "python",
   "name": "python3"
  },
  "language_info": {
   "codemirror_mode": {
    "name": "ipython",
    "version": 3
   },
   "file_extension": ".py",
   "mimetype": "text/x-python",
   "name": "python",
   "nbconvert_exporter": "python",
   "pygments_lexer": "ipython3",
   "version": "3.6.7"
  }
 },
 "nbformat": 4,
 "nbformat_minor": 2
}
